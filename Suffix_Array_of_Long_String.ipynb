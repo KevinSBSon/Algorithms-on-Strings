{
  "nbformat": 4,
  "nbformat_minor": 0,
  "metadata": {
    "colab": {
      "name": "Suffix Array of Long String.ipynb",
      "provenance": [],
      "authorship_tag": "ABX9TyMm/gLYrSgBao60kUVs2Oga",
      "include_colab_link": true
    },
    "kernelspec": {
      "name": "python3",
      "display_name": "Python 3"
    },
    "language_info": {
      "name": "python"
    }
  },
  "cells": [
    {
      "cell_type": "markdown",
      "metadata": {
        "id": "view-in-github",
        "colab_type": "text"
      },
      "source": [
        "<a href=\"https://colab.research.google.com/github/KevinSBSon/Algorithms-on-Strings/blob/main/Suffix_Array_of_Long_String.ipynb\" target=\"_parent\"><img src=\"https://colab.research.google.com/assets/colab-badge.svg\" alt=\"Open In Colab\"/></a>"
      ]
    },
    {
      "cell_type": "markdown",
      "source": [
        "# Problem Description\n",
        "**Task**<br>\n",
        "Construct the suffix array of a string.\n",
        "<br><br>**Input Format**<br>\n",
        "A string Text ending with a “$” symbol.\n",
        "<br><br>**Constraints**<br>\n",
        "1 ≤ |Text| ≤ 2 · 105 ; except for the last symbol, Text contains symbols A, C, G, T only.\n",
        "<br><br>**Output Format**<br>\n",
        "SuffixArray(Text), that is, the list of starting positions of sorted suffixes separated by spaces."
      ],
      "metadata": {
        "id": "AfEfP6aDYCY0"
      }
    },
    {
      "cell_type": "code",
      "execution_count": null,
      "metadata": {
        "id": "xXxt1PCIXmDc"
      },
      "outputs": [],
      "source": [
        "\n",
        "def build_suffix_array(text):\n",
        "  result = []\n",
        "  order = SortCharacters(text)\n",
        "  clas = ComputeCharClasses(text, order)\n",
        "  L = 1\n",
        "  while L<len(text):\n",
        "    order = SortDoubled(text, L, order, clas)\n",
        "    clas = UpdateClasses(order, clas, L)\n",
        "    L = 2*L\n",
        "\n",
        "  return order\n",
        "\n",
        "def SortCharacters(S):\n",
        "  order = [0]*len(S)\n",
        "  Alpha = sorted(list(set(S)))\n",
        "  count = [0]*len(Alpha)\n",
        "\n",
        "  for i in range(len(S)):\n",
        "    id = Alpha.index(S[i])\n",
        "    count[id] = count[id] + 1\n",
        "\n",
        "\n",
        "  for j in range(1, len(Alpha)):\n",
        "\n",
        "    count[j] = count[j] + count[j-1]\n",
        "  for i in reversed(range(0, len(S))):\n",
        "    c = Alpha.index(S[i])\n",
        "    count[c] = count[c] -1\n",
        "\n",
        "    order[count[c]] = i\n",
        "  return order\n",
        "\n",
        "def ComputeCharClasses(S, order):\n",
        "  clas = [0] * len(S)\n",
        "  for i in range(1, len(S)):\n",
        "    if S[order[i]] != S[order[i-1]]:\n",
        "      clas[order[i]] = clas[order[i-1]] +1\n",
        "    else:\n",
        "      clas[order[i]] = clas[order[i-1]]\n",
        "  return clas\n",
        "\n",
        "def SortDoubled(S, L, order, clas):\n",
        "  count = [0] * len(S)\n",
        "  newOrder = [0] * len(S)\n",
        "  for i in range(len(S)):\n",
        "    count[clas[i]] = count[clas[i]] +1\n",
        "  for j in range(1, len(S)):\n",
        "    count[j] = count[j] + count[j-1]\n",
        "  for i in reversed(range(0, len(S))):\n",
        "    start = (order[i]-L+len(S))%len(S)\n",
        "    cl = clas[start]\n",
        "    count[cl] = count[cl] -1\n",
        "    newOrder[count[cl]] = start\n",
        "  return newOrder\n",
        "\n",
        "def UpdateClasses(newOrder, clas, L):\n",
        "  n = len(newOrder)\n",
        "  newClass = [0]*n\n",
        "  newClass[newOrder[0]] = 0\n",
        "  for i in range(1, n):\n",
        "    cur = newOrder[i]\n",
        "    prev = newOrder[i-1]\n",
        "    mid = cur+L\n",
        "    midPrev = (prev+L)%n\n",
        "    if clas[cur] != clas[prev] or clas[mid] != clas[midPrev]:\n",
        "      newClass[cur] = newClass[prev] + 1\n",
        "    else:\n",
        "      newClass[cur] = newClass[prev]\n",
        "  return newClass\n",
        "\n",
        "if __name__ == '__main__':\n",
        "  text = input()\n",
        "  print(\" \".join(map(str, build_suffix_array(text))))"
      ]
    }
  ]
}