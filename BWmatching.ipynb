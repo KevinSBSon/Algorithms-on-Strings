{
  "nbformat": 4,
  "nbformat_minor": 0,
  "metadata": {
    "colab": {
      "name": "BWmatching.ipynb",
      "provenance": [],
      "collapsed_sections": [],
      "authorship_tag": "ABX9TyOpERLmzvVJE/Z4/Vz30eAN",
      "include_colab_link": true
    },
    "kernelspec": {
      "name": "python3",
      "display_name": "Python 3"
    },
    "language_info": {
      "name": "python"
    }
  },
  "cells": [
    {
      "cell_type": "markdown",
      "metadata": {
        "id": "view-in-github",
        "colab_type": "text"
      },
      "source": [
        "<a href=\"https://colab.research.google.com/github/KevinSBSon/Algorithms-on-Strings/blob/main/BWmatching.ipynb\" target=\"_parent\"><img src=\"https://colab.research.google.com/assets/colab-badge.svg\" alt=\"Open In Colab\"/></a>"
      ]
    },
    {
      "cell_type": "markdown",
      "source": [
        "# Problem Description\n",
        "**Task**<br>\n",
        "Implement BetterBWMatching algorithm.\n",
        "<br><br>**Input Format**<br>\n",
        "A string BWT(Text), followed by an integer 𝑛 and a collection of 𝑛 strings Patterns =\n",
        "{𝑝1 , . . . , 𝑝𝑛 } (on one line separated by spaces).\n",
        "<br><br>**Constraints**<br>\n",
        "1 ≤ |BWT(Text)| ≤ 106 ; except for the one $ symbol, BWT(Text) contains symbols A, C,\n",
        "G,Tonly ; 1≤𝑛≤5000 ; forall1≤𝑖≤𝑛,𝑝𝑖 isastringoverA,C,G,T ; 1≤|𝑝𝑖|≤1000.\n",
        "<br><br>**Output Format**<br>\n",
        "A list of integers, where the 𝑖-th integer corresponds to the number of substring matches\n",
        "of the 𝑖-th member of Patterns in Text."
      ],
      "metadata": {
        "id": "IF1nBe_maUNE"
      }
    },
    {
      "cell_type": "code",
      "execution_count": null,
      "metadata": {
        "id": "QmkmdkbzZioS"
      },
      "outputs": [],
      "source": [
        "\n",
        "def PreprocessBWT(bwt):\n",
        "\n",
        "  sortedbwt = sorted(bwt)\n",
        "  starts = {}\n",
        "  occ_count_before = {}\n",
        "  keys = []\n",
        "  for i in range(len(bwt)):\n",
        "    if i != 0:\n",
        "      for key in occ_count_before.keys():\n",
        "        occ_count_before[key][i+1] = occ_count_before[key][i]\n",
        "\n",
        "    if sortedbwt[i] not in keys:\n",
        "      c = sortedbwt[i]\n",
        "      starts[c] = i\n",
        "      keys.append(c)\n",
        "\n",
        "    if bwt[i] not in occ_count_before.keys():\n",
        "      c = bwt[i]\n",
        "      occ_count_before[c] = [0]*(len(bwt)+1)\n",
        "      occ_count_before[c][i+1] = 1\n",
        "    else:\n",
        "      c = bwt[i]\n",
        "      occ_count_before[c][i+1] += 1\n",
        "\n",
        "  return starts, occ_count_before\n",
        "\n",
        "\n",
        "def CountOccurrences(pattern, bwt, starts, occ_counts_before):\n",
        "  top = 0\n",
        "  bottom = len(bwt) - 1\n",
        "\n",
        "  while top <= bottom:\n",
        "    if len(pattern) != 0:\n",
        "      symbol = pattern[-1]\n",
        "      pattern = pattern[:-1]\n",
        "      if symbol in bwt[top:bottom+1]:\n",
        "        top = starts[symbol] + occ_counts_before[symbol][top]\n",
        "        bottom = starts[symbol] + occ_counts_before[symbol][bottom+1] -1\n",
        "      else:\n",
        "        return 0\n",
        "    else:\n",
        "      return bottom-top+1\n",
        "\n",
        "if __name__ == '__main__':\n",
        "  bwt = input()\n",
        "  pattern_count = int(input())\n",
        "  patterns = input().split()\n",
        "  # Preprocess the BWT once to get starts and occ_count_before.\n",
        "  # For each pattern, we will then use these precomputed values and\n",
        "  # spend only O(|pattern|) to find all occurrences of the pattern\n",
        "  # in the text instead of O(|pattern| + |text|).  \n",
        "  starts, occ_counts_before = PreprocessBWT(bwt)\n",
        "  occurrence_counts = []\n",
        "  for pattern in patterns:\n",
        "    occurrence_counts.append(CountOccurrences(pattern, bwt, starts, occ_counts_before))\n",
        "  print(' '.join(map(str, occurrence_counts)))"
      ]
    }
  ]
}